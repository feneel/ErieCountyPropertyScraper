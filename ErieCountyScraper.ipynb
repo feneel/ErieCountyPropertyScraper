{
 "cells": [
  {
   "cell_type": "code",
   "execution_count": null,
   "metadata": {
    "vscode": {
     "languageId": "plaintext"
    }
   },
   "outputs": [],
   "source": [
    "from selenium import webdriver\n",
    "from selenium.webdriver.common.by import By\n",
    "from selenium.webdriver.support.ui import WebDriverWait\n",
    "from selenium.webdriver.support import expected_conditions as EC\n",
    "from time import sleep\n"
   ]
  },
  {
   "cell_type": "code",
   "execution_count": null,
   "metadata": {
    "vscode": {
     "languageId": "plaintext"
    }
   },
   "outputs": [],
   "source": [
    "house_no= input(\"Enter the house number: \")\n",
    "street= input(\"Enter the street name: \")\n"
   ]
  },
  {
   "cell_type": "code",
   "execution_count": null,
   "metadata": {
    "vscode": {
     "languageId": "plaintext"
    }
   },
   "outputs": [],
   "source": [
    "\n",
    "\n",
    "# Initialize a WebDriver (e.g., ChromeDriver)\n",
    "driver = webdriver.Chrome()"
   ]
  },
  {
   "cell_type": "code",
   "execution_count": null,
   "metadata": {
    "vscode": {
     "languageId": "plaintext"
    }
   },
   "outputs": [],
   "source": [
    "\n",
    "# Open Website\n",
    "driver.get(\"https://paytax.erie.gov/(S(nouqja10qzl2aegkavupikui))/WebPortal/WEB_PT_MAIN.aspx?command=\")\n",
    "parcel_tab = driver.find_element(By.XPATH, '//*[@id=\"Web_PT_Header_MyMenuManager_mnuMainn3\"]/table/tbody/tr/td/a')\n",
    "parcel_tab.click()\n",
    "sleep(2.5)\n",
    "# Radio btn\n",
    "make_a_search_rd_btn = driver.find_element(By.ID, 'objWP_reportparameterstyle_ESearchManager1_rdblStyles_0')\n",
    "make_a_search_rd_btn.click()\n",
    "# Select btn\n",
    "select_btn = driver.find_element(By.XPATH, '//*[@id=\"objWP_reportparameterstyle_ESearchManager1_cmdLoadStyleContent\"]')\n",
    "select_btn.click()  \n",
    "sleep(2.5)\n"
   ]
  },
  {
   "cell_type": "code",
   "execution_count": null,
   "metadata": {
    "vscode": {
     "languageId": "plaintext"
    }
   },
   "outputs": [],
   "source": [
    "house_no_box = driver.find_element(By.XPATH, '//*[@id=\"objWP_reportparameterstyle_ESearchManager1_Web_CO_SearchPanel1_txt_GFD0\"]')\n",
    "house_no_box.send_keys(house_no)\n",
    "street_box = driver.find_element(By.XPATH, '//*[@id=\"objWP_reportparameterstyle_ESearchManager1_Web_CO_SearchPanel1_txt_GFD1\"]')\n",
    "street_box.send_keys(street)\n",
    "# Click on the county option\n",
    "county_option = driver.find_element(By.XPATH, '//*[@id=\"objWP_reportparameterstyle_ESearchManager1_Web_CO_SearchPanel1_ddl_GFD2\"]/option[8]')\n",
    "county_option.click()"
   ]
  },
  {
   "cell_type": "code",
   "execution_count": null,
   "metadata": {
    "vscode": {
     "languageId": "plaintext"
    }
   },
   "outputs": [],
   "source": [
    "\n",
    "\n",
    "# Search Btn\n",
    "search_btn = driver.find_element(By.ID, 'objWP_reportparameterstyle_ESearchManager1_Web_CO_SearchPanel1_btnGo')\n",
    "search_btn.click()\n",
    "    \n",
    "property_details= driver.find_element(By.XPATH,'//*[@id=\"objWP_reportparameterstyle_ESearchManager1_cmdFinish\"]')\n",
    "property_details.click()\n"
   ]
  },
  {
   "cell_type": "code",
   "execution_count": null,
   "metadata": {
    "vscode": {
     "languageId": "plaintext"
    }
   },
   "outputs": [],
   "source": [
    "\n",
    "# # Switch to iFrame\n",
    "iframe = driver.find_element(By.XPATH, '//iframe[contains(@id, \"iframe\")]')  # Replace with the actual iframe ID or selector\n",
    "driver.switch_to.frame(iframe)"
   ]
  },
  {
   "cell_type": "code",
   "execution_count": null,
   "metadata": {
    "vscode": {
     "languageId": "plaintext"
    }
   },
   "outputs": [],
   "source": [
    "\n",
    "\n",
    "\n",
    "# #Click on owners history\n",
    "owner_history_btn= driver.find_element(By.XPATH, '//*[@id=\"Text5\"]/div/div/a')\n",
    "owner_history_btn.click()\n",
    "\n"
   ]
  },
  {
   "cell_type": "code",
   "execution_count": null,
   "metadata": {
    "vscode": {
     "languageId": "plaintext"
    }
   },
   "outputs": [],
   "source": [
    "\n",
    "\n",
    "# # Return to normal\n",
    "driver.switch_to.default_content()"
   ]
  },
  {
   "cell_type": "code",
   "execution_count": null,
   "metadata": {
    "vscode": {
     "languageId": "plaintext"
    }
   },
   "outputs": [],
   "source": [
    "\n",
    "\n",
    "#Print Owner History\n",
    "owner_history_print_btn = driver.find_element(By.XPATH, '//*[@id=\"Web_Report_CrystalViewer1_MyReportManager_imgPrint\"]')\n",
    "owner_history_print_btn.click()"
   ]
  },
  {
   "cell_type": "code",
   "execution_count": null,
   "metadata": {
    "vscode": {
     "languageId": "plaintext"
    }
   },
   "outputs": [],
   "source": [
    "\n",
    "# # Switch to iFrame\n",
    "\n",
    "iframe1 = driver.find_element(By.XPATH, '/html/body/form/div[3]/table/tbody/tr[2]/td/table/tbody/tr[3]/td/table/tbody/tr/td/table/tbody/tr[2]/td/table/tbody/tr[2]/td/table/tbody/tr[2]/td[2]/div/table/tbody/tr[2]/td/div/div/table[1]/tbody/tr[2]/td[2]/div/div/div/div/div[1]/iframe')  # Replace with the actual iframe ID or selector\n",
    "driver.switch_to.frame(iframe1)\n",
    "\n",
    "back_to_property_details = driver.find_element(By.XPATH, '//*[@id=\"Text2\"]/div/div/a')\n",
    "back_to_property_details.click()\n",
    "\n",
    "driver.switch_to.default_content()"
   ]
  },
  {
   "cell_type": "code",
   "execution_count": null,
   "metadata": {
    "vscode": {
     "languageId": "plaintext"
    }
   },
   "outputs": [],
   "source": [
    "iframe2 = driver.find_element(By.XPATH, '/html/body/form/div[3]/table/tbody/tr[2]/td/table/tbody/tr[3]/td/table/tbody/tr/td/table/tbody/tr[2]/td/table/tbody/tr[2]/td/table/tbody/tr[2]/td[2]/div/table/tbody/tr[2]/td/div/div/table[1]/tbody/tr[2]/td[2]/div/div/div/div/div[1]/iframe')\n",
    "driver.switch_to.frame(iframe2)\n"
   ]
  },
  {
   "cell_type": "code",
   "execution_count": null,
   "metadata": {
    "vscode": {
     "languageId": "plaintext"
    }
   },
   "outputs": [],
   "source": [
    "\n",
    "# Click on tax payment history\n",
    "tax_payment_history_btn = driver.find_element(By.XPATH, '//*[@id=\"Text6\"]/div/div/a')\n",
    "tax_payment_history_btn.click()\n",
    "\n",
    "driver.switch_to.default_content()\n"
   ]
  },
  {
   "cell_type": "code",
   "execution_count": null,
   "metadata": {
    "vscode": {
     "languageId": "plaintext"
    }
   },
   "outputs": [],
   "source": [
    "\n",
    "\n",
    "#Print Tax Payment History\n",
    "tax_payment_print_btn = driver.find_element(By.XPATH, '//*[@id=\"Web_Report_CrystalViewer1_MyReportManager_imgPrint\"]')\n",
    "tax_payment_print_btn.click()\n",
    "t\n",
    "# # Return to normal"
   ]
  },
  {
   "cell_type": "code",
   "execution_count": null,
   "metadata": {
    "vscode": {
     "languageId": "plaintext"
    }
   },
   "outputs": [],
   "source": [
    "\n",
    "sleep(2.5)\n",
    "# Close the browser\n",
    "driver.quit()\n"
   ]
  }
 ],
 "metadata": {
  "language_info": {
   "name": "python"
  }
 },
 "nbformat": 4,
 "nbformat_minor": 2
}
